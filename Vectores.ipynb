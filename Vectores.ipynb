{
  "nbformat": 4,
  "nbformat_minor": 0,
  "metadata": {
    "colab": {
      "provenance": [],
      "authorship_tag": "ABX9TyNPG2rFU1d8gAbZUFioS8a3",
      "include_colab_link": true
    },
    "kernelspec": {
      "name": "python3",
      "display_name": "Python 3"
    },
    "language_info": {
      "name": "python"
    }
  },
  "cells": [
    {
      "cell_type": "markdown",
      "metadata": {
        "id": "view-in-github",
        "colab_type": "text"
      },
      "source": [
        "<a href=\"https://colab.research.google.com/github/JuanPabloBallesterosMaciasUis/Vectores_Colab/blob/main/Vectores.ipynb\" target=\"_parent\"><img src=\"https://colab.research.google.com/assets/colab-badge.svg\" alt=\"Open In Colab\"/></a>"
      ]
    },
    {
      "cell_type": "markdown",
      "source": [
        "# VECTORES"
      ],
      "metadata": {
        "id": "K1bs-dYRzqy0"
      }
    },
    {
      "cell_type": "code",
      "source": [
        "# Ejercicio 1 : Vector con numeros aleatorios\n",
        "\n",
        "import random\n",
        "\n",
        "print(\"Vector numeros aleatorios\")\n",
        "\n",
        "x = [None]*10\n",
        "for i in range (10):\n",
        "  x [i] = random.random()\n",
        "  print(x[i])"
      ],
      "metadata": {
        "id": "i2ErYo1b0COL"
      },
      "execution_count": null,
      "outputs": []
    },
    {
      "cell_type": "code",
      "source": [
        "# Ejercicio 2 : Suma de los elementos de un vector\n",
        "\n",
        "suma = 0\n",
        "vector = [None]*5\n",
        "\n",
        "for i in range(5):\n",
        "  a = int(input(\"Dame un elemento: \"))\n",
        "  vector[i] = a\n",
        "  suma = suma + vector[i]\n",
        "print(\"La suma de los elementos del vector es : \", suma)\n",
        "\n"
      ],
      "metadata": {
        "id": "ErnPhcoU2a-X"
      },
      "execution_count": null,
      "outputs": []
    },
    {
      "cell_type": "code",
      "source": [
        "# Ejercicio 3 : Una empresa tiene 250 empleados, por cada uno de ellos tenemos un registro que trae grabado unos datos, el nombre del empleado y el salario mensual\n",
        "# Hacer diagrama y programa que averigue e imprima, cuantos empleados ganan mas del promedio salarial de la empresa.\n",
        "\n",
        "import random\n",
        "\n",
        "n = int(input(\"Digite la cantidad de empleados: \"))\n",
        "\n",
        "empleados = [None]*n\n",
        "salar = [None]*n\n",
        "suma = 0\n",
        "cant = 0\n",
        "\n",
        "for i in range(n):\n",
        "  nombres = input(\"Digite el nombre del empleado: \")\n",
        "  salario = int(input(\"Dijite el salario mensual del empleado: \"))\n",
        "  salar[i]= salario\n",
        "  suma = suma + salario\n",
        "\n",
        "promedio = suma / n\n",
        "\n",
        "for i in range(n):\n",
        "  if salar[i] > promedio :\n",
        "    cant = cant + 1\n",
        "\n",
        "print(\"La cantidad de empleados que ganan mas del promedio salarial de la empresa es\",cant)  \n",
        "print(promedio )"
      ],
      "metadata": {
        "id": "Jk3vTJ_s4CMG"
      },
      "execution_count": null,
      "outputs": []
    },
    {
      "cell_type": "code",
      "source": [
        "# Hacer un programa que lea un vector a de n elementos, y que averigue y imprima cual es el mayor y en que posicionn se encuentra, y cual es el menor y en que posicion se encuentra\n",
        "\n",
        "n = int(input(\"Digite la cantidad de elementos para el vector: \"))\n",
        "\n",
        "vector = [None]*n\n",
        "posicion = 0\n",
        "\n",
        "mayor = 0\n",
        "for i in range(n):\n",
        "  m = int(input(\"Dijite el numero para el vector: \"))\n",
        "  vector[i] = m\n",
        "\n",
        "for i in range(n):\n",
        "  if vector[i] > mayor :\n",
        "    mayor = vector[i]\n",
        "    posicion = i\n",
        "\n",
        "print(vector)\n",
        "print(\"El numero mayor es: \",mayor,\", en la posicion:\",posicion)\n",
        "menor = mayor\n",
        "posicion_2 = 0\n",
        "\n",
        "for i in range(n):\n",
        "  if vector[i] < menor :\n",
        "    menor = vector[i]\n",
        "    posicion_2 = i\n",
        "\n",
        "print(\"El numero menor es: \",menor,\", en la posicion:\",posicion_2)\n",
        "\n",
        "\n"
      ],
      "metadata": {
        "id": "BTd06plq_F55",
        "colab": {
          "base_uri": "https://localhost:8080/"
        },
        "outputId": "2756c3d3-1bf2-4562-ff2e-8a02ffa71241"
      },
      "execution_count": null,
      "outputs": [
        {
          "output_type": "stream",
          "name": "stdout",
          "text": [
            "Digite la cantidad de elementos para el vector: 4\n",
            "Dijite el numero para el vector: 12\n",
            "Dijite el numero para el vector: 30\n",
            "Dijite el numero para el vector: 54\n",
            "Dijite el numero para el vector: 2\n",
            "[12, 30, 54, 2]\n",
            "El numero mayor es:  54 , en la posicion: 2\n",
            "El numero menor es:  2 , en la posicion: 3\n"
          ]
        }
      ]
    },
    {
      "cell_type": "code",
      "source": [
        "# Calcular magnitud o norma euclediana de un vector\n",
        "n = int(input(\"Digite la cantidad de elementos para el vector: \"))\n",
        "\n",
        "vector = [None]*n\n",
        "relt = 0\n",
        "\n",
        "\n",
        "\n",
        "for i in range(n):\n",
        "  m = int(input(\"Dijite el componente para el vector: \"))\n",
        "  vector[i] = m\n",
        "\n",
        "for i in range (n):\n",
        "  norma = (vector[i])**2\n",
        "  relt = norma + relt\n",
        "resultado = (relt)**0.5\n",
        "\n",
        "\n",
        "\n",
        "print(\"La norma o la magnitud del vector es: \",resultado)\n",
        "\n",
        "\n",
        "\n",
        "\n"
      ],
      "metadata": {
        "id": "BueuARBkFOy5",
        "colab": {
          "base_uri": "https://localhost:8080/"
        },
        "outputId": "4d5c895c-ce9c-489e-962b-80af53022a78"
      },
      "execution_count": null,
      "outputs": [
        {
          "output_type": "stream",
          "name": "stdout",
          "text": [
            "Digite la cantidad de elementos para el vector: 5\n",
            "Dijite el componente para el vector: 12\n",
            "Dijite el componente para el vector: 25\n",
            "Dijite el componente para el vector: 2\n",
            "Dijite el componente para el vector: 43\n",
            "Dijite el componente para el vector: 1\n",
            "144\n",
            "625\n",
            "4\n",
            "1849\n",
            "1\n",
            "La norma o la magnitud del vector es:  51.21523210920751\n"
          ]
        }
      ]
    },
    {
      "cell_type": "code",
      "source": [
        "# Calcular producto escalar de dos vectores\n",
        "n = int(input(\"Digite la cantidad de elementos para los dos vectores: \"))\n",
        "\n",
        "print(\"\")\n",
        "print(\"---------------------------\")\n",
        "print(\"Elementos para el vector 1\")\n",
        "print(\"---------------------------\")\n",
        "print(\"\")\n",
        "\n",
        "vector = [None]*n\n",
        "suma = 0\n",
        "\n",
        "\n",
        "\n",
        "for i in range(n):\n",
        "  m = int(input(\"Dijite el elemento para el primer vector: \"))\n",
        "  vector[i] = m\n",
        "\n",
        "\n",
        "\n",
        "\n",
        "vector_2 = [None]*n\n",
        "\n",
        "print(\"\")\n",
        "print(\"---------------------------\")\n",
        "print(\"Elementos para el vector 2\")\n",
        "print(\"---------------------------\")\n",
        "print(\"\")\n",
        "\n",
        "\n",
        "for i in range(n):\n",
        "  m_2 = int(input(\"Dijite el elemento para el segundo vector: \"))\n",
        "  vector_2[i] = m_2\n",
        "\n",
        "for i in range(n):\n",
        "  producto = vector_2[i]*vector[i]\n",
        "  suma = suma + producto\n",
        "\n",
        "print(\"\")\n",
        "print(\"-----Vectores-------\")\n",
        "print(\"Vector 1:\",vector)\n",
        "print(\"\")\n",
        "print(\"Vector 2:\",vector_2)\n",
        "print(\"\")\n",
        "print(\"El producto escalar de los dos vectores es: \",suma) \n",
        "\n"
      ],
      "metadata": {
        "colab": {
          "base_uri": "https://localhost:8080/"
        },
        "id": "e-l6WBO0zzlo",
        "outputId": "6dae7fee-2688-4fc5-90c5-1ea5bbebcfa4"
      },
      "execution_count": null,
      "outputs": [
        {
          "output_type": "stream",
          "name": "stdout",
          "text": [
            "Digite la cantidad de elementos para los dos vectores: 2\n",
            "\n",
            "---------------------------\n",
            "Elementos para el vector 1\n",
            "---------------------------\n",
            "\n",
            "Dijite el elemento para el primer vector: 1\n",
            "Dijite el elemento para el primer vector: 2\n",
            "\n",
            "---------------------------\n",
            "Elementos para el vector 2\n",
            "---------------------------\n",
            "\n",
            "Dijite el elemento para el segundo vector: 3\n",
            "Dijite el elemento para el segundo vector: 4\n",
            "-----Vectores-------\n",
            "Vector 1: [1, 2]\n",
            "\n",
            "Vector 2: [3, 4]\n",
            "\n",
            "El producto escalar de los dos vectores es:  11\n"
          ]
        }
      ]
    }
  ]
}